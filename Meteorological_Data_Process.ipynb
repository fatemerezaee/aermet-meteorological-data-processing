{
  "nbformat": 4,
  "nbformat_minor": 0,
  "metadata": {
    "colab": {
      "provenance": []
    },
    "kernelspec": {
      "name": "python3",
      "display_name": "Python 3"
    },
    "language_info": {
      "name": "python"
    }
  },
  "cells": [
    {
      "cell_type": "markdown",
      "source": [
        "Hi Everyone\n",
        "\n",
        "I’m Fateme, an environmental specialist passionate about air quality modeling.  \n",
        "While working on atmospheric dispersion modeling with AERMET, I faced challenges processing raw meteorological data to meet input requirements.  \n",
        "To solve this, I developed the scripts below to clean, organize, and prepare the data — filling gaps, aligning timestamps, and converting intervals to hourly records.  \n",
        "I’m sharing this in case it helps others working on similar projects..."
      ],
      "metadata": {
        "id": "wbVUNzVyAa1x"
      }
    },
    {
      "cell_type": "markdown",
      "source": [
        "**Importing Libraries**"
      ],
      "metadata": {
        "id": "u6w-sCuFq6WR"
      }
    },
    {
      "cell_type": "code",
      "source": [
        "from google.colab import drive\n",
        "import pandas as pd\n",
        "import numpy as np\n",
        "from collections import Counter\n",
        "from datetime import datetime, timedelta\n",
        "import glob\n",
        "import os\n",
        "import re"
      ],
      "metadata": {
        "id": "0l3gwOrHq4_T"
      },
      "execution_count": null,
      "outputs": []
    },
    {
      "cell_type": "markdown",
      "source": [
        "**Filling Blank Cells**"
      ],
      "metadata": {
        "id": "17Co4aFdX0LL"
      }
    },
    {
      "cell_type": "code",
      "source": [
        "# Path to the Excel file\n",
        "file_path = '/content/drive/MyDrive/Your_File_Name.xlsx' #Update Your Path Here\n",
        "\n",
        "# Load the Excel file\n",
        "df = pd.read_excel(file_path)\n",
        "\n",
        "# Define the column names (make sure they match exactly)\n",
        "temperature_col = 'Temperture' #Update Your Parametr Name Here\n",
        "wind_dir_col = 'Wind Direction' #Update Your Parametr Name Here\n",
        "\n",
        "# Function to fill missing values\n",
        "def fill_missing_values(df):\n",
        "    # Fill temperature blanks with 0\n",
        "    if temperature_col in df.columns:\n",
        "        df[temperature_col].fillna(0, inplace=True)\n",
        "\n",
        "    # Fill wind direction blanks with the most frequent value\n",
        "    if wind_dir_col in df.columns:\n",
        "        most_frequent_wind_dir = df[wind_dir_col].mode()[0]\n",
        "        df[wind_dir_col].fillna(most_frequent_wind_dir, inplace=True)\n",
        "\n",
        "    # Fill other columns' blanks with their mean\n",
        "    for col in df.columns:\n",
        "        if col not in [temperature_col, wind_dir_col]:\n",
        "            if df[col].dtype in [np.float64, np.int64]:\n",
        "                df[col].fillna(df[col].mean(), inplace=True)\n",
        "\n",
        "    return df\n",
        "\n",
        "# Fill missing values\n",
        "filled_df = fill_missing_values(df)\n",
        "\n",
        "# Save the cleaned file back to Google Drive\n",
        "output_path = '/content/drive/My Drive/Your_File_Name.xlsx' #Update Your Path Here\n",
        "filled_df.to_excel(output_path, index=False)\n",
        "\n",
        "print(f\"Cleaned file saved to: {output_path}\")"
      ],
      "metadata": {
        "colab": {
          "base_uri": "https://localhost:8080/"
        },
        "id": "ECkBlr1SIOmF",
        "outputId": "5397f096-1961-4c58-f97a-9ce7599bf33e"
      },
      "execution_count": null,
      "outputs": [
        {
          "output_type": "stream",
          "name": "stderr",
          "text": [
            "<ipython-input-14-4ed08e3fb428>:15: FutureWarning: A value is trying to be set on a copy of a DataFrame or Series through chained assignment using an inplace method.\n",
            "The behavior will change in pandas 3.0. This inplace method will never work because the intermediate object on which we are setting values always behaves as a copy.\n",
            "\n",
            "For example, when doing 'df[col].method(value, inplace=True)', try using 'df.method({col: value}, inplace=True)' or df[col] = df[col].method(value) instead, to perform the operation inplace on the original object.\n",
            "\n",
            "\n",
            "  df[temperature_col].fillna(0, inplace=True)\n",
            "<ipython-input-14-4ed08e3fb428>:20: FutureWarning: A value is trying to be set on a copy of a DataFrame or Series through chained assignment using an inplace method.\n",
            "The behavior will change in pandas 3.0. This inplace method will never work because the intermediate object on which we are setting values always behaves as a copy.\n",
            "\n",
            "For example, when doing 'df[col].method(value, inplace=True)', try using 'df.method({col: value}, inplace=True)' or df[col] = df[col].method(value) instead, to perform the operation inplace on the original object.\n",
            "\n",
            "\n",
            "  df[wind_dir_col].fillna(most_frequent_wind_dir, inplace=True)\n",
            "<ipython-input-14-4ed08e3fb428>:26: FutureWarning: A value is trying to be set on a copy of a DataFrame or Series through chained assignment using an inplace method.\n",
            "The behavior will change in pandas 3.0. This inplace method will never work because the intermediate object on which we are setting values always behaves as a copy.\n",
            "\n",
            "For example, when doing 'df[col].method(value, inplace=True)', try using 'df.method({col: value}, inplace=True)' or df[col] = df[col].method(value) instead, to perform the operation inplace on the original object.\n",
            "\n",
            "\n",
            "  df[col].fillna(df[col].mean(), inplace=True)\n"
          ]
        },
        {
          "output_type": "stream",
          "name": "stdout",
          "text": [
            "Cleaned file saved to: /content/drive/My Drive/AERMET_Data/Sarcheshme/1396_1402_1/1402_Fill.xlsx\n"
          ]
        }
      ]
    },
    {
      "cell_type": "markdown",
      "source": [
        "**Merging Excel Files from 1396_1402**"
      ],
      "metadata": {
        "id": "MxBdLxjWq-oB"
      }
    },
    {
      "cell_type": "code",
      "execution_count": null,
      "metadata": {
        "colab": {
          "base_uri": "https://localhost:8080/"
        },
        "id": "j88nklHtjS-e",
        "outputId": "36ca941a-ba5c-4a03-b88b-d6a54779fdd6"
      },
      "outputs": [
        {
          "output_type": "stream",
          "name": "stdout",
          "text": [
            "Drive already mounted at /content/drive; to attempt to forcibly remount, call drive.mount(\"/content/drive\", force_remount=True).\n",
            "File 1396_Fill.xlsx added\n",
            "File 1397_Fill.xlsx added\n",
            "File 1398_Fill.xlsx added\n",
            "File 1399_Fill.xlsx added\n",
            "File 1400_Fill.xlsx added\n",
            "File 1401_Fill.xlsx added\n",
            "File 1402_Fill.xlsx added\n",
            "All files have been merged in chronological order and saved to:\n",
            "/content/drive/My Drive/AERMET_Data/Sarcheshme/1396_1402_1/Fill/1396_1402_merged.xlsx\n"
          ]
        }
      ],
      "source": [
        "# Mount Google Drive\n",
        "drive.mount('/content/drive')\n",
        "\n",
        "# Path to the folder containing the Excel files (inside Google Drive)\n",
        "folder_path = '/content/drive/MyDrive/' #Update Your Path Here\n",
        "\n",
        "# List all Excel files in the folder\n",
        "files = glob.glob(os.path.join(folder_path, '*.xlsx'))\n",
        "\n",
        "# Function to extract year from the filename (assuming the filename is the year)\n",
        "def extract_year_from_filename(filename):\n",
        "    match = re.search(r'14\\d{2}|13\\d{2}', filename)\n",
        "    return int(match.group()) if match else 0\n",
        "\n",
        "# Sort files by year\n",
        "files = sorted(files, key=lambda x: extract_year_from_filename(os.path.basename(x)))\n",
        "\n",
        "# List to store dataframes\n",
        "dfs = []\n",
        "\n",
        "# Read and append each file to the list\n",
        "for i, file in enumerate(files):\n",
        "    df = pd.read_excel(file)\n",
        "    dfs.append(df)\n",
        "    print(f\"File {os.path.basename(file)} added\")\n",
        "\n",
        "# Merge all dataframes, keeping headers only for the first file\n",
        "merged_df = pd.concat(dfs, ignore_index=True)\n",
        "\n",
        "# Save the merged file back to Google Drive\n",
        "output_path = os.path.join(folder_path, 'Your_File_Name.xlsx')\n",
        "merged_df.to_excel(output_path, index=False)\n",
        "\n",
        "print(f\"All files have been merged in chronological order and saved to:\\n{output_path}\")\n"
      ]
    },
    {
      "cell_type": "markdown",
      "source": [
        "**Converting Date Column to Seprate Year/Month/Day/Hour/Minute Columns**"
      ],
      "metadata": {
        "id": "tDGpXB7OrERZ"
      }
    },
    {
      "cell_type": "code",
      "source": [
        "\n",
        "# Path to the merged file\n",
        "folder_path = '/content/drive/MyDrive/' #Update Your Path Here\n",
        "input_file = os.path.join(folder_path, 'Your_File_Name.xlsx')\n",
        "\n",
        "# Load the merged file\n",
        "df = pd.read_excel(input_file)\n",
        "\n",
        "# Check the first few rows to verify the date column name\n",
        "print(df.head())\n",
        "\n",
        "# Split the 'تاریخ' column into separate date and time components\n",
        "df['Year'] = df['تاریخ'].str.split(' ').str[1].str.split('/').str[0]\n",
        "df['Month'] = df['تاریخ'].str.split(' ').str[1].str.split('/').str[1]\n",
        "df['Day'] = df['تاریخ'].str.split(' ').str[1].str.split('/').str[2]\n",
        "df['Hour'] = df['تاریخ'].str.split(' ').str[0].str.split(':').str[0]\n",
        "df['Minute'] = df['تاریخ'].str.split(' ').str[0].str.split(':').str[1]\n",
        "\n",
        "# Save the updated DataFrame\n",
        "output_file = os.path.join(folder_path, 'Your_File_Name.xlsx')\n",
        "df.to_excel(output_file, index=False)\n",
        "\n",
        "print(f\"Date column split into Year, Month, Day, Hour, and Minute! Saved to:\\n{output_file}\")\n"
      ],
      "metadata": {
        "colab": {
          "base_uri": "https://localhost:8080/"
        },
        "id": "u6UcQ4Nuqy4i",
        "outputId": "d72a3c96-8a50-4390-d569-9b05ed2d365c"
      },
      "execution_count": null,
      "outputs": [
        {
          "output_type": "stream",
          "name": "stdout",
          "text": [
            "   رطوبت هوا (2 متر) ( % )   سرعت باد (10 متر) ( m/s )   \\\n",
            "0                      87.1                         9.7   \n",
            "1                      76.6                         9.5   \n",
            "2                      76.1                         9.2   \n",
            "3                      78.6                         7.7   \n",
            "4                      83.3                         7.3   \n",
            "\n",
            "  دمای هوا (2 متر) ( °C )   جهت باد (10 متر) ( Deg )   باران ( mm )   \\\n",
            "0                      5.7                        237            0.0   \n",
            "1                      5.9                        236            0.0   \n",
            "2                        6                        230            0.0   \n",
            "3                      6.2                        231            0.0   \n",
            "4                      6.9                        213            0.0   \n",
            "\n",
            "   فشار اتمسفر ( hPa )                 تاریخ  \n",
            "0                 744.0  10:50:00 1396/01/01  \n",
            "1                 744.0  11:00:00 1396/01/01  \n",
            "2                 744.0  11:10:00 1396/01/01  \n",
            "3                 743.9  11:20:00 1396/01/01  \n",
            "4                 744.0  11:30:00 1396/01/01  \n",
            "Date column split into Year, Month, Day, Hour, and Minute! Saved to:\n",
            "/content/drive/My Drive/AERMET_Data/Sarcheshme/1396_1402_1/1396_1402_split.xlsx\n"
          ]
        }
      ]
    },
    {
      "cell_type": "markdown",
      "source": [
        "**Converting Data from Every 10Min to Every 1Hour Intervals**"
      ],
      "metadata": {
        "id": "zkmY8UYQvf7K"
      }
    },
    {
      "cell_type": "code",
      "source": [
        "# Path to the split date file\n",
        "folder_path = '/content/drive/MyDrive/' #Update Your Path Here\n",
        "input_file = os.path.join(folder_path, 'Your_File_Name.xlsx')\n",
        "\n",
        "# Load the split date file\n",
        "df = pd.read_excel(input_file)\n",
        "\n",
        "# Check the first few rows to verify the data\n",
        "print(df.head())\n",
        "\n",
        "# Filter rows where 'Minute' is 0\n",
        "hourly_df = df[df['Minute'] == 0]\n",
        "\n",
        "# Drop the 'Minute' column since it's no longer needed\n",
        "hourly_df = hourly_df.drop(columns=['Minute'])\n",
        "\n",
        "# Save the updated DataFrame\n",
        "output_file = os.path.join(folder_path, 'Your_File_Name.xlsx')\n",
        "hourly_df.to_excel(output_file, index=False)\n",
        "\n",
        "print(f\"Data filtered to keep only hourly records! Saved to:\\n{output_file}\")\n"
      ],
      "metadata": {
        "colab": {
          "base_uri": "https://localhost:8080/"
        },
        "id": "VMW7_rvApejo",
        "outputId": "dd98af62-913f-4148-daa5-812fad1ce9f2"
      },
      "execution_count": null,
      "outputs": [
        {
          "output_type": "stream",
          "name": "stdout",
          "text": [
            "   Year  Month  Day  Hour  Minute  رطوبت هوا (2 متر) ( % )   \\\n",
            "0  1396      1    1    10      50                      87.1   \n",
            "1  1396      1    1    11       0                      76.6   \n",
            "2  1396      1    1    11      10                      76.1   \n",
            "3  1396      1    1    11      20                      78.6   \n",
            "4  1396      1    1    11      30                      83.3   \n",
            "\n",
            "   سرعت باد (10 متر) ( m/s )   دمای هوا (2 متر) ( °C )   \\\n",
            "0                         9.7                       5.7   \n",
            "1                         9.5                       5.9   \n",
            "2                         9.2                       6.0   \n",
            "3                         7.7                       6.2   \n",
            "4                         7.3                       6.9   \n",
            "\n",
            "   جهت باد (10 متر) ( Deg )   باران ( mm )   فشار اتمسفر ( hPa )   \n",
            "0                        237            0.0                 744.0  \n",
            "1                        236            0.0                 744.0  \n",
            "2                        230            0.0                 744.0  \n",
            "3                        231            0.0                 743.9  \n",
            "4                        213            0.0                 744.0  \n",
            "Data filtered to keep only hourly records! Saved to:\n",
            "/content/drive/My Drive/AERMET_Data/Sarcheshme/1396_1402_1/1396_1402_hourly_filtered.xlsx\n"
          ]
        }
      ]
    },
    {
      "cell_type": "markdown",
      "source": [
        "**Filling missed Hours**"
      ],
      "metadata": {
        "id": "GeTxDF4SaQBr"
      }
    },
    {
      "cell_type": "code",
      "source": [
        "# Function to fill missing values in the DataFrame\n",
        "def fill_missing_values(df):\n",
        "    # Fill missing temperature with 0\n",
        "    df['Temperture'].fillna(0, inplace=True) #Update Your Parameter Name Here\n",
        "\n",
        "    # Fill missing wind direction with the most frequent value\n",
        "    if df['Wind Direction'].notna().any():   #Update Your Parameter Name Here\n",
        "        most_common_wind_dir = df['Wind Direction'].mode()[0]\n",
        "        df['Wind Direction'].fillna(most_common_wind_dir, inplace=True)\n",
        "\n",
        "    # Fill other missing values with the column mean\n",
        "    for col in df.columns:\n",
        "        if col not in ['Year', 'Month', 'Day', 'Hour', 'Temperture', 'Wind Direction']:\n",
        "            df[col].fillna(df[col].mean(), inplace=True)\n",
        "\n",
        "    return df\n",
        "\n",
        "# Function to generate complete Shamsi date range\n",
        "def generate_complete_dates(years):\n",
        "    date_rows = []\n",
        "    for year in years:\n",
        "        for month in range(1, 13):\n",
        "            days_in_month = 31 if month <= 6 else 30\n",
        "            for day in range(1, days_in_month + 1):\n",
        "                for hour in range(0, 24):\n",
        "                    date_rows.append([year, month, day, hour])\n",
        "\n",
        "    return pd.DataFrame(date_rows, columns=['Year', 'Month', 'Day', 'Hour'])\n",
        "\n",
        "# Load the data file from Google Drive\n",
        "file_path = '/content/drive/My Drive/Your_File_Name.xlsx' #Update Your Path Here\n",
        "df = pd.read_excel(file_path)\n",
        "\n",
        "# Get unique years from the data\n",
        "unique_years = df['Year'].unique()\n",
        "\n",
        "# Create the complete date range\n",
        "complete_dates_df = generate_complete_dates(unique_years)\n",
        "\n",
        "# Merge the complete date range with the existing data\n",
        "merged_df = pd.merge(complete_dates_df, df, on=['Year', 'Month', 'Day', 'Hour'], how='left')\n",
        "\n",
        "# Fill missing values\n",
        "filled_df = fill_missing_values(merged_df)\n",
        "\n",
        "# Save the final DataFrame to Google Drive\n",
        "output_path = '/content/drive/My Drive/Your_File_Name.xlsx'  #Update Your Path Here\n",
        "filled_df.to_excel(output_path, index=False)\n",
        "\n",
        "print(\"Missing dates added, gaps filled, and final dataset saved to Google Drive!\")\n"
      ],
      "metadata": {
        "colab": {
          "base_uri": "https://localhost:8080/"
        },
        "id": "8owieJ0vvmDS",
        "outputId": "0fc9b2c1-4f95-4103-fe6e-9fc6425905dd"
      },
      "execution_count": null,
      "outputs": [
        {
          "output_type": "stream",
          "name": "stderr",
          "text": [
            "<ipython-input-23-5bda9ac78407>:4: FutureWarning: A value is trying to be set on a copy of a DataFrame or Series through chained assignment using an inplace method.\n",
            "The behavior will change in pandas 3.0. This inplace method will never work because the intermediate object on which we are setting values always behaves as a copy.\n",
            "\n",
            "For example, when doing 'df[col].method(value, inplace=True)', try using 'df.method({col: value}, inplace=True)' or df[col] = df[col].method(value) instead, to perform the operation inplace on the original object.\n",
            "\n",
            "\n",
            "  df['دمای هوا (2 متر) ( °C ) '].fillna(0, inplace=True)\n",
            "<ipython-input-23-5bda9ac78407>:9: FutureWarning: A value is trying to be set on a copy of a DataFrame or Series through chained assignment using an inplace method.\n",
            "The behavior will change in pandas 3.0. This inplace method will never work because the intermediate object on which we are setting values always behaves as a copy.\n",
            "\n",
            "For example, when doing 'df[col].method(value, inplace=True)', try using 'df.method({col: value}, inplace=True)' or df[col] = df[col].method(value) instead, to perform the operation inplace on the original object.\n",
            "\n",
            "\n",
            "  df['جهت باد (10 متر) ( Deg ) '].fillna(most_common_wind_dir, inplace=True)\n",
            "<ipython-input-23-5bda9ac78407>:14: FutureWarning: A value is trying to be set on a copy of a DataFrame or Series through chained assignment using an inplace method.\n",
            "The behavior will change in pandas 3.0. This inplace method will never work because the intermediate object on which we are setting values always behaves as a copy.\n",
            "\n",
            "For example, when doing 'df[col].method(value, inplace=True)', try using 'df.method({col: value}, inplace=True)' or df[col] = df[col].method(value) instead, to perform the operation inplace on the original object.\n",
            "\n",
            "\n",
            "  df[col].fillna(df[col].mean(), inplace=True)\n"
          ]
        },
        {
          "output_type": "stream",
          "name": "stdout",
          "text": [
            "Missing dates added, gaps filled, and final dataset saved to Google Drive!\n"
          ]
        }
      ]
    }
  ]
}